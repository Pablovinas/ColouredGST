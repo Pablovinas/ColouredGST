{
 "cells": [
  {
   "cell_type": "code",
   "execution_count": 2,
   "metadata": {},
   "outputs": [
    {
     "name": "stderr",
     "output_type": "stream",
     "text": [
      "/Users/pablovinasmartinez/opt/anaconda3/envs/coloured_GST/lib/python3.12/site-packages/pygsti/baseobjs/opcalc/__init__.py:31: UserWarning: \n",
      "An optimized Cython-based implementation of `pygsti.baseobjs.opcalc` is available as\n",
      "an extension, but couldn't be imported. This might happen if the\n",
      "extension has not been built. `pip install cython`, then reinstall\n",
      "pyGSTi to build Cython extensions. Alternatively, setting the\n",
      "environment variable `PYGSTI_NO_CYTHON_WARNING` will suppress this\n",
      "message.\n",
      "\n",
      "  _warnings.warn(warn_msg)\n",
      "/Users/pablovinasmartinez/opt/anaconda3/envs/coloured_GST/lib/python3.12/site-packages/pygsti/circuits/circuitparser/__init__.py:60: UserWarning: \n",
      "An optimized Cython-based implementation of `pygsti.circuits.circuitparser` is available as\n",
      "an extension, but couldn't be imported. This might happen if the\n",
      "extension has not been built. `pip install cython`, then reinstall\n",
      "pyGSTi to build Cython extensions. Alternatively, setting the\n",
      "environment variable `PYGSTI_NO_CYTHON_WARNING` will suppress this\n",
      "message.\n",
      "\n",
      "  _warnings.warn(warn_msg)\n"
     ]
    }
   ],
   "source": [
    "# some imports\n",
    "import pygsti\n",
    "import pygsti.modelmembers as mm\n",
    "import numpy as np"
   ]
  },
  {
   "cell_type": "markdown",
   "metadata": {},
   "source": [
    "Our model is constructed from two single-qubit operations. These operations are integrated and combined to create a two-qubit operation, with each single-qubit gate acting on its respective qubit."
   ]
  },
  {
   "cell_type": "code",
   "execution_count": 3,
   "metadata": {},
   "outputs": [
    {
     "name": "stdout",
     "output_type": "stream",
     "text": [
      "Composed operation of 2 factors:\n",
      "Factor 0:\n",
      "Embedded operation with full dimension 16 and state space QubitSpace(('Q0', 'Q1'))\n",
      " that embeds the following 4-dimensional operation into acting on the ('Q0',) space\n",
      "FullArbitraryOp with shape (4, 4)\n",
      " 1.00   0   0   0\n",
      "   0 1.00   0   0\n",
      "   0   0   0-1.00\n",
      "   0   0 1.00   0\n",
      "Factor 1:\n",
      "Embedded operation with full dimension 16 and state space QubitSpace(('Q0', 'Q1'))\n",
      " that embeds the following 4-dimensional operation into acting on the ('Q1',) space\n",
      "FullArbitraryOp with shape (4, 4)\n",
      " 1.00   0   0   0\n",
      "   0 1.00   0   0\n",
      "   0   0-1.00   0\n",
      "   0   0   0-1.00\n",
      "\n"
     ]
    }
   ],
   "source": [
    "mdl_complete = pygsti.models.ExplicitOpModel(['Q0', 'Q1'],'pp')\n",
    "\n",
    "# Single qubit operations\n",
    "\n",
    "G1 = np.array([[1, 0, 0, 0],\n",
    "               [0, 1, 0, 0],\n",
    "               [0, 0, 0,-1],\n",
    "               [0, 0, 1, 0]], 'd')\n",
    "\n",
    "G2 = np.array([[1, 0, 0, 0],\n",
    "               [0, 1, 0, 0],\n",
    "               [0, 0,-1, 0],\n",
    "               [0, 0, 0,-1]], 'd')\n",
    "\n",
    "Op1, Op2 = mm.operations.FullArbitraryOp(G1), mm.operations.FullArbitraryOp(G2)\n",
    "\n",
    "# Composition\n",
    "mdl_complete.operations[('G1G2')] = mm.operations.ComposedOp(\n",
    "                                        (mm.operations.EmbeddedOp(['Q0', 'Q1'], ['Q0'], Op1),\n",
    "                                        mm.operations.EmbeddedOp(['Q0', 'Q1'], ['Q1'], Op2))\n",
    "                                        )\n",
    "# Check that the operation is correct\n",
    "print(mdl_complete[('G1G2')])"
   ]
  },
  {
   "cell_type": "markdown",
   "metadata": {},
   "source": [
    "We attempt to identify a set of germs using the `find_germs()` function. This is purely for experimental reasons, given that the gate set is limited to a single operation and is not even IC. The process fails due to the presence of a composite operation in the model, which is not supported."
   ]
  },
  {
   "cell_type": "code",
   "execution_count": 4,
   "metadata": {},
   "outputs": [
    {
     "ename": "TypeError",
     "evalue": "unsupported operand type(s) for *: 'float' and 'ComposedOp'",
     "output_type": "error",
     "traceback": [
      "\u001b[0;31m---------------------------------------------------------------------------\u001b[0m",
      "\u001b[0;31mTypeError\u001b[0m                                 Traceback (most recent call last)",
      "Cell \u001b[0;32mIn[4], line 3\u001b[0m\n\u001b[1;32m      1\u001b[0m \u001b[38;5;28;01mimport\u001b[39;00m \u001b[38;5;21;01mpygsti\u001b[39;00m\u001b[38;5;21;01m.\u001b[39;00m\u001b[38;5;21;01malgorithms\u001b[39;00m\u001b[38;5;21;01m.\u001b[39;00m\u001b[38;5;21;01mgermselection\u001b[39;00m \u001b[38;5;28;01mas\u001b[39;00m \u001b[38;5;21;01mgermsel\u001b[39;00m\n\u001b[0;32m----> 3\u001b[0m germs \u001b[38;5;241m=\u001b[39m germsel\u001b[38;5;241m.\u001b[39mfind_germs(mdl_complete)\n",
      "File \u001b[0;32m~/opt/anaconda3/envs/coloured_GST/lib/python3.12/site-packages/pygsti/algorithms/germselection.py:191\u001b[0m, in \u001b[0;36mfind_germs\u001b[0;34m(target_model, randomize, randomization_strength, num_gs_copies, seed, candidate_germ_counts, candidate_seed, force, algorithm, algorithm_kwargs, mem_limit, comm, profiler, verbosity, num_nongauge_params, assume_real, float_type, mode, toss_random_frac, force_rank_increase, save_cevd_cache_filename, load_cevd_cache_filename, file_compression)\u001b[0m\n\u001b[1;32m     42\u001b[0m \u001b[38;5;250m\u001b[39m\u001b[38;5;124;03m\"\"\"\u001b[39;00m\n\u001b[1;32m     43\u001b[0m \u001b[38;5;124;03mGenerate a germ set for doing GST with a given target model.\u001b[39;00m\n\u001b[1;32m     44\u001b[0m \n\u001b[0;32m   (...)\u001b[0m\n\u001b[1;32m    188\u001b[0m \u001b[38;5;124;03m    A list containing the germs making up the germ set.\u001b[39;00m\n\u001b[1;32m    189\u001b[0m \u001b[38;5;124;03m\"\"\"\u001b[39;00m\n\u001b[1;32m    190\u001b[0m printer \u001b[38;5;241m=\u001b[39m _baseobjs\u001b[38;5;241m.\u001b[39mVerbosityPrinter\u001b[38;5;241m.\u001b[39mcreate_printer(verbosity, comm)\n\u001b[0;32m--> 191\u001b[0m modelList \u001b[38;5;241m=\u001b[39m _setup_model_list(target_model, randomize,\n\u001b[1;32m    192\u001b[0m                               randomization_strength, num_gs_copies, seed)\n\u001b[1;32m    193\u001b[0m gates \u001b[38;5;241m=\u001b[39m \u001b[38;5;28mlist\u001b[39m(target_model\u001b[38;5;241m.\u001b[39moperations\u001b[38;5;241m.\u001b[39mkeys())\n\u001b[1;32m    194\u001b[0m availableGermsList \u001b[38;5;241m=\u001b[39m []\n",
      "File \u001b[0;32m~/opt/anaconda3/envs/coloured_GST/lib/python3.12/site-packages/pygsti/algorithms/germselection.py:550\u001b[0m, in \u001b[0;36m_setup_model_list\u001b[0;34m(model_list, randomize, randomization_strength, num_copies, seed)\u001b[0m\n\u001b[1;32m    546\u001b[0m     _warnings\u001b[38;5;241m.\u001b[39mwarn(\u001b[38;5;124m\"\u001b[39m\u001b[38;5;124mIgnoring num_copies=\u001b[39m\u001b[38;5;132;01m{}\u001b[39;00m\u001b[38;5;124m since multiple models were \u001b[39m\u001b[38;5;124m\"\u001b[39m\n\u001b[1;32m    547\u001b[0m                    \u001b[38;5;124m\"\u001b[39m\u001b[38;5;124msupplied.\u001b[39m\u001b[38;5;124m\"\u001b[39m\u001b[38;5;241m.\u001b[39mformat(num_copies))\n\u001b[1;32m    549\u001b[0m \u001b[38;5;28;01mif\u001b[39;00m randomize:\n\u001b[0;32m--> 550\u001b[0m     model_list \u001b[38;5;241m=\u001b[39m randomize_model_list(model_list, randomization_strength,\n\u001b[1;32m    551\u001b[0m                                       num_copies, seed)\n\u001b[1;32m    553\u001b[0m \u001b[38;5;28;01mreturn\u001b[39;00m model_list\n",
      "File \u001b[0;32m~/opt/anaconda3/envs/coloured_GST/lib/python3.12/site-packages/pygsti/algorithms/germselection.py:923\u001b[0m, in \u001b[0;36mrandomize_model_list\u001b[0;34m(model_list, randomization_strength, num_copies, seed)\u001b[0m\n\u001b[1;32m    921\u001b[0m \u001b[38;5;28;01melse\u001b[39;00m:\n\u001b[1;32m    922\u001b[0m     \u001b[38;5;28;01mfor\u001b[39;00m modelnum \u001b[38;5;129;01min\u001b[39;00m \u001b[38;5;28mrange\u001b[39m(num_copies \u001b[38;5;28;01mif\u001b[39;00m num_copies \u001b[38;5;129;01mis\u001b[39;00m \u001b[38;5;129;01mnot\u001b[39;00m \u001b[38;5;28;01mNone\u001b[39;00m \u001b[38;5;28;01melse\u001b[39;00m \u001b[38;5;241m1\u001b[39m):\n\u001b[0;32m--> 923\u001b[0m         newmodelList\u001b[38;5;241m.\u001b[39mappend(model_list[\u001b[38;5;241m0\u001b[39m]\u001b[38;5;241m.\u001b[39mrandomize_with_unitary(\n\u001b[1;32m    924\u001b[0m             randomization_strength,\n\u001b[1;32m    925\u001b[0m             seed\u001b[38;5;241m=\u001b[39m\u001b[38;5;28;01mNone\u001b[39;00m \u001b[38;5;28;01mif\u001b[39;00m seed \u001b[38;5;129;01mis\u001b[39;00m \u001b[38;5;28;01mNone\u001b[39;00m \u001b[38;5;28;01melse\u001b[39;00m seed \u001b[38;5;241m+\u001b[39m modelnum))\n\u001b[1;32m    926\u001b[0m \u001b[38;5;28;01mreturn\u001b[39;00m newmodelList\n",
      "File \u001b[0;32m~/opt/anaconda3/envs/coloured_GST/lib/python3.12/site-packages/pygsti/models/explicitmodel.py:1155\u001b[0m, in \u001b[0;36mExplicitOpModel.randomize_with_unitary\u001b[0;34m(self, scale, seed, rand_state)\u001b[0m\n\u001b[1;32m   1151\u001b[0m     randUnitary \u001b[38;5;241m=\u001b[39m _scipy\u001b[38;5;241m.\u001b[39mlinalg\u001b[38;5;241m.\u001b[39mexpm(\u001b[38;5;241m-\u001b[39m\u001b[38;5;241m1\u001b[39mj \u001b[38;5;241m*\u001b[39m randMat)\n\u001b[1;32m   1153\u001b[0m     randOp \u001b[38;5;241m=\u001b[39m _ot\u001b[38;5;241m.\u001b[39munitary_to_superop(randUnitary, \u001b[38;5;28mself\u001b[39m\u001b[38;5;241m.\u001b[39mbasis)\n\u001b[0;32m-> 1155\u001b[0m     mdl_randomized\u001b[38;5;241m.\u001b[39moperations[opLabel] \u001b[38;5;241m=\u001b[39m _op\u001b[38;5;241m.\u001b[39mFullArbitraryOp(_np\u001b[38;5;241m.\u001b[39mdot(randOp, gate))\n\u001b[1;32m   1157\u001b[0m \u001b[38;5;66;03m#Note: this function does NOT randomize instruments\u001b[39;00m\n\u001b[1;32m   1159\u001b[0m \u001b[38;5;28;01mreturn\u001b[39;00m mdl_randomized\n",
      "\u001b[0;31mTypeError\u001b[0m: unsupported operand type(s) for *: 'float' and 'ComposedOp'"
     ]
    }
   ],
   "source": [
    "import pygsti.algorithms.germselection as germsel\n",
    "\n",
    "germs = germsel.find_germs(mdl_complete)"
   ]
  },
  {
   "cell_type": "markdown",
   "metadata": {},
   "source": [
    "To address this issue, we can modify the `randomize_with_unitary()` function. By altering the final line to `gate -> gate.to_dense()`, we ensure that the `.dot` product operation is compatible with the matrix format."
   ]
  },
  {
   "cell_type": "code",
   "execution_count": 5,
   "metadata": {},
   "outputs": [],
   "source": [
    "import numpy as _np\n",
    "import scipy as _scipy\n",
    "from pygsti.modelmembers import operations as _op\n",
    "from pygsti.tools import optools as _ot\n",
    "\n",
    "\n",
    "def randomize_with_unitary(self, scale, seed=None, rand_state=None):\n",
    "        \n",
    "        \"\"\"\n",
    "        Create a new model with random unitary perturbations.\n",
    "\n",
    "        Apply a random unitary to each element of a model, and return the\n",
    "        result, without modifying the original (this) model. This method\n",
    "        works on Model as long as the dimension is a perfect square.\n",
    "\n",
    "        Parameters\n",
    "        ----------\n",
    "        scale : float\n",
    "            maximum element magnitude in the generator of each random unitary\n",
    "            transform.\n",
    "\n",
    "        seed : int, optional\n",
    "            if not None, seed numpy's random number generator with this value\n",
    "            before generating random depolarizations.\n",
    "\n",
    "        rand_state : numpy.random.RandomState\n",
    "            A RandomState object to generate samples from. Can be useful to set\n",
    "            instead of `seed` if you want reproducible distribution samples\n",
    "            across multiple random function calls but you don't want to bother\n",
    "            with manually incrementing seeds between those calls.\n",
    "\n",
    "        Returns\n",
    "        -------\n",
    "        Model\n",
    "            the randomized Model\n",
    "        \"\"\"\n",
    "\n",
    "        if rand_state is None:\n",
    "            rndm = _np.random.RandomState(seed)\n",
    "        else:\n",
    "            rndm = rand_state\n",
    "\n",
    "        op_dim = self.state_space.dim\n",
    "        unitary_dim = int(round(_np.sqrt(op_dim)))\n",
    "        assert(unitary_dim**2 == op_dim), \\\n",
    "            \"Model dimension must be a perfect square, %d is not\" % op_dim\n",
    "\n",
    "        mdl_randomized = self.copy()\n",
    "\n",
    "        for opLabel, gate in self.operations.items():\n",
    "            randMat = scale * (rndm.randn(unitary_dim, unitary_dim)\n",
    "                               + 1j * rndm.randn(unitary_dim, unitary_dim))\n",
    "            randMat = _np.transpose(_np.conjugate(randMat)) + randMat\n",
    "            # make randMat Hermetian: (A_dag + A)^dag = (A_dag + A)\n",
    "            randUnitary = _scipy.linalg.expm(-1j * randMat)\n",
    "\n",
    "            randOp = _ot.unitary_to_superop(randUnitary, self.basis)\n",
    "\n",
    "            mdl_randomized.operations[opLabel] = _op.FullArbitraryOp(_np.dot(randOp, gate.to_dense())) # THIS IS THE UPDATED LINE!!\n",
    "\n",
    "        #Note: this function does NOT randomize instruments\n",
    "\n",
    "        return mdl_randomized\n",
    "\n",
    "\n",
    "pygsti.models.ExplicitOpModel.randomize_with_unitary = randomize_with_unitary"
   ]
  },
  {
   "cell_type": "markdown",
   "metadata": {},
   "source": [
    "Now `find_germs()` works"
   ]
  },
  {
   "cell_type": "code",
   "execution_count": 6,
   "metadata": {},
   "outputs": [
    {
     "name": "stdout",
     "output_type": "stream",
     "text": [
      "Initial Length Available Germ List: 1\n",
      "Length Available Germ List After Deduping: 1\n",
      "Length Available Germ List After Dropping Random Fraction: 1\n",
      "Length Available Germ List After Adding Back In Forced Germs: 1\n",
      "Memory estimate of 0.0 GB for all-Jac mode.\n",
      "Memory estimate of 0.0 GB for single-Jac mode.\n",
      "Using greedy algorithm.\n",
      "Constructed germ set:\n",
      "['G1G2']\n",
      "Score: major=-28.0 minor=28.000000000000004, N: 28\n"
     ]
    }
   ],
   "source": [
    "germs = germsel.find_germs(mdl_complete)"
   ]
  },
  {
   "cell_type": "code",
   "execution_count": null,
   "metadata": {},
   "outputs": [],
   "source": []
  }
 ],
 "metadata": {
  "kernelspec": {
   "display_name": "coloured_GST",
   "language": "python",
   "name": "python3"
  },
  "language_info": {
   "codemirror_mode": {
    "name": "ipython",
    "version": 3
   },
   "file_extension": ".py",
   "mimetype": "text/x-python",
   "name": "python",
   "nbconvert_exporter": "python",
   "pygments_lexer": "ipython3",
   "version": "3.12.3"
  }
 },
 "nbformat": 4,
 "nbformat_minor": 2
}
