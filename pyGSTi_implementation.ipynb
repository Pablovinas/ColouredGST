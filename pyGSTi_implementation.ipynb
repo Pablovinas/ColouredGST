{
 "cells": [
  {
   "cell_type": "markdown",
   "metadata": {},
   "source": [
    "Imports. Ensure that the `main_functions.py` file is correclty imported "
   ]
  },
  {
   "cell_type": "code",
   "execution_count": 2,
   "metadata": {},
   "outputs": [],
   "source": [
    "import pygsti\n",
    "import pygsti.modelmembers as mm\n",
    "import numpy as np\n",
    "from math import pi\n",
    "from main_functions import * "
   ]
  },
  {
   "cell_type": "markdown",
   "metadata": {},
   "source": [
    "Let's begin with the model definition. We build an explicit model and add custome operations to impose the parametrization in the coloured phase model. To know more about this check the `CustomeOperator.ipynb` tutorial availible at pyGSTi docs. First, we need to define the operator class to add gates to the model"
   ]
  },
  {
   "cell_type": "code",
   "execution_count": 3,
   "metadata": {},
   "outputs": [],
   "source": [
    "#operator class for the gate\n",
    "\n",
    "class G(pygsti.modelmembers.operations.DenseOperator):\n",
    "\n",
    "    def __init__(self, markov_approx, intensity_noise, pulse_duration, phase, representation, gate_index):\n",
    "        #initialize with no noise\n",
    "        super(G, self).__init__(np.identity(4,'d'), 'pp', \"densitymx_slow\") # this is *super*-operator, so \"densitymx_slow\"\n",
    "        \n",
    "        self.markov_approx = markov_approx\n",
    "        self.intensity_noise = intensity_noise\n",
    "        self.pulse_duration = pulse_duration\n",
    "        self.phase = phase\n",
    "        self.representation = representation\n",
    "        self.gate_index = gate_index\n",
    "\n",
    "        init_values = [0, 1e-8] #Small value to avoid divison by zero \n",
    "        if not self.markov_approx:\n",
    "            init_values.extend([0, 0])\n",
    "        if self.intensity_noise:\n",
    "            init_values.append(0)\n",
    "\n",
    "        self.from_vector(init_values)\n",
    "\n",
    "    def _num_params(self):\n",
    "        if self.intensity_noise:\n",
    "            return 3 if self.markov_approx else 5\n",
    "        else:\n",
    "            return 2 if self.markov_approx else 4\n",
    "        \n",
    "    #return the number of parameters\n",
    "    @property\n",
    "    def num_params(self):\n",
    "        return self._num_params()\n",
    "\n",
    "    #return the labels of the parameters\n",
    "    @property\n",
    "    def parameter_labels(self):\n",
    "        return [f'G{self.gate_index + 1} param{i+1}' for i in range(self._num_params())]\n",
    "\n",
    "    #parameter bounds\n",
    "    @property\n",
    "    def parameter_bounds(self): #\\Gamma_1 > 0 to ensure complete positivity of the matrices\n",
    "\n",
    "        bounds = [(0, np.inf), (-np.inf, np.inf)]\n",
    "        bounds.extend([(-np.inf, np.inf)] * (self._num_params() - 2))\n",
    "\n",
    "        if self._num_params() == 3 or self._num_params() == 5:\n",
    "            bounds[len(bounds) - 1] = (0, np.inf)\n",
    "\n",
    "        return bounds\n",
    "    \n",
    "    def to_vector(self):\n",
    "\n",
    "        vector = [self.Gamma_1, self.Delta_1]\n",
    "        if not self.markov_approx:\n",
    "            vector.append(self.Gamma_2)\n",
    "            vector.append(self.Delta_2)\n",
    "        if self.intensity_noise:\n",
    "            vector.append(self.DeltaGamma)\n",
    "            \n",
    "        return np.array(vector, 'd')\n",
    "        \n",
    "    def from_vector(self, v, close = False, dirty_value = True):\n",
    "\n",
    "        #initialize from parameter vector v\n",
    "        self.Gamma_1, self.Delta_1 = v[0], v[1]\n",
    "        self.Gamma_2, self.Delta_2, self.DeltaGamma = 0, 0, 0\n",
    "\n",
    "        if not self.markov_approx:\n",
    "            self.Gamma_2, self.Delta_2 = v[2], v[3]\n",
    "        if self.intensity_noise:\n",
    "            self.DeltaGamma = v[2 if self.markov_approx else 4]\n",
    "        \n",
    "        # ._ptr is a member of DenseOperator and is a numpy array that is \n",
    "        # the dense Pauli transfer matrix of this operator\n",
    "        # Technical note: use [:,:] instead of direct assignment so id of self._ptr doesn't change\n",
    "        # self._ptr[:,:] = build_gate_ptm(np.array([self.Gamma_1, self.Delta_1,  self.Gamma_2,  self.Delta_2, self.DeltaGamma], 'd'),\n",
    "        #                                 self.pulse_duration, self.markov_approx, phase = self.phase)\n",
    "\n",
    "        # we build the gate in the phase noise model using the function `build_gate_ptm'\n",
    "        self._ptr[:,:] = build_gate_ptm(np.array([self.Gamma_1, self.Delta_1,  self.Gamma_2,  self.Delta_2, self.DeltaGamma], 'd'),\n",
    "                                    self.pulse_duration, self.markov_approx, self.intensity_noise, phase = self.phase)\n",
    "\n",
    "        self.dirty = dirty_value  # mark that parameter vector may have changed"
   ]
  },
  {
   "cell_type": "markdown",
   "metadata": {},
   "source": [
    "Now we can add custom operations to define our gate set"
   ]
  },
  {
   "cell_type": "code",
   "execution_count": 15,
   "metadata": {},
   "outputs": [
    {
     "name": "stdout",
     "output_type": "stream",
     "text": [
      "rho0 = TPState with dimension 4\n",
      " 0.71   0   0 0.71\n",
      "\n",
      "\n",
      "Mdefault = TPPOVM with effect vectors:\n",
      "0: FullPOVMEffect with dimension 4\n",
      " 0.71   0   0 0.71\n",
      "\n",
      "1: ComplementPOVMEffect with dimension 4\n",
      " 0.71   0   0-0.71\n",
      "\n",
      "\n",
      "\n",
      "G1:0 = \n",
      "G with shape (4, 4)\n",
      " 1.00   0   0   0\n",
      "   0 1.00   0   0\n",
      "   0   0-1.00   0\n",
      "   0   0   0-1.00\n",
      "\n",
      "\n",
      "G2:0 = \n",
      "G with shape (4, 4)\n",
      " 1.00   0   0   0\n",
      "   0 1.00   0   0\n",
      "   0   0   0-1.00\n",
      "   0   0 1.00   0\n",
      "\n",
      "\n",
      "G3:0 = \n",
      "G with shape (4, 4)\n",
      " 1.00   0   0   0\n",
      "   0   0   0-1.00\n",
      "   0   0 1.00   0\n",
      "   0 1.00   0   0\n",
      "\n",
      "\n",
      "G4:0 = \n",
      "G with shape (4, 4)\n",
      " 1.00   0   0   0\n",
      "   0 1.00   0   0\n",
      "   0   0   0 1.00\n",
      "   0   0-1.00   0\n",
      "\n",
      "\n",
      "G5:0 = \n",
      "G with shape (4, 4)\n",
      " 1.00   0   0   0\n",
      "   0   0   0 1.00\n",
      "   0   0 1.00   0\n",
      "   0-1.00   0   0\n",
      "\n",
      "\n",
      "\n",
      "\n"
     ]
    }
   ],
   "source": [
    "#For this tutorial we will use the Markovian approximation, which implies \\Gamma_2 = \\Delta_2 = 0. We also inlcude intenisty noise\n",
    "markov_approx = True\n",
    "intensity_noise = True\n",
    "\n",
    "#Explicit model\n",
    "mdl = pygsti.models.ExplicitOpModel([0],'pp')\n",
    "\n",
    "# We add the initial state. It is constrained to be trace preserving\n",
    "mdl['rho0'] = mm.states.TPState( np.array([ 1/sqrt(2), 0, 0, 1/sqrt(2) ], 'd'), \n",
    "                                       evotype = 'densitymx_slow') # density matrix [[1, 0], [0, 0]] in Pauli basis\n",
    "\n",
    "\n",
    "#We also add a physical measurement operator with two effects.\n",
    "mdl['Mdefault'] = mm.povms.TPPOVM(\n",
    "    {'0': [ 1/sqrt(2), 0, 0, 1/sqrt(2) ],   # projector onto [[1, 0], [0, 0]] in Pauli basis\n",
    "     '1': [ 1/sqrt(2), 0, 0, -1/sqrt(2) ] },# projector onto [[0, 0], [0, 1]] in Pauli basis\n",
    "    evotype = 'densitymx_slow') # Specify the evolution type when initializing from NumPy arrays.\n",
    "                                # densitymx is the default\n",
    "\n",
    "\n",
    "# We add the operations of the chosen gate set to the model\n",
    "\n",
    "myGates = ['G1', 'G2', 'G3', 'G4', 'G5']\n",
    "gateSetParams = {'G1': [np.pi, 0], \n",
    "                 'G2': [np.pi / 2, 0],\n",
    "                 'G3': [np.pi / 2, np.pi / 2],\n",
    "                 'G4': [np.pi / 2, np.pi],\n",
    "                 'G5': [np.pi / 2, 3 * np.pi / 2]}\n",
    "\n",
    "for idx, gate in enumerate(myGates):\n",
    "    mdl[(gate,0)] = G(markov_approx, intensity_noise, *gateSetParams[gate], 'PTM', idx)\n",
    "\n",
    "# mdl[('Id',0)] = Identity()\n",
    "#print the model\n",
    "print(mdl)"
   ]
  },
  {
   "cell_type": "markdown",
   "metadata": {},
   "source": [
    "Now, we know from the theoretical model that gates with same pusle duration should be represented with the same set of parameters. We can implement this by  making use of the `collect_parameters()` method, as described in the `ParameterLabels.ipynb` tutorial. However, first we need to rebuild the paramvec, as this is not an automated process when defining the gate set. In the markovian case, the number of free parameters should be 11."
   ]
  },
  {
   "cell_type": "code",
   "execution_count": 16,
   "metadata": {},
   "outputs": [
    {
     "name": "stdout",
     "output_type": "stream",
     "text": [
      "[(Label('rho0'), 'VecElement 1') (Label('rho0'), 'VecElement 2')\n",
      " (Label('rho0'), 'VecElement 3') (Label('Mdefault'), 'VecElement Re(0)')\n",
      " (Label('Mdefault'), 'VecElement Re(1)')\n",
      " (Label('Mdefault'), 'VecElement Re(2)')\n",
      " (Label('Mdefault'), 'VecElement Re(3)') (Label(('G1', 0)), 'G1 param1')\n",
      " (Label(('G1', 0)), 'G1 param2') (Label(('G1', 0)), 'G1 param3')\n",
      " 'Gamma_1 pulse = pi/2' 'Delta_1 pulse = pi/2' 'DeltaGamma pulse = pi/2']\n",
      "13\n"
     ]
    }
   ],
   "source": [
    "#rebuild the param vector\n",
    "mdl._rebuild_paramvec()\n",
    "\n",
    "\n",
    "# we select the collectable parameters according to the model characteristics\n",
    "collectable_params = {1: 'Gamma_1 pulse = pi/2',\n",
    "                      2: 'Delta_1 pulse = pi/2'}\n",
    "\n",
    "if not markov_approx:\n",
    "    collectable_params[3] = 'Gamma_2 pulse = pi/2'\n",
    "    collectable_params[4] = 'Delta_2 pulse = pi/2'\n",
    "\n",
    "if intensity_noise:\n",
    "    collectable_params[3 if markov_approx else 5] = 'DeltaGamma pulse = pi/2'\n",
    "\n",
    "# collect the parameters\n",
    "for keys, vals in collectable_params.items():\n",
    "\n",
    "    symbolic_param_vec = [((f'G{idx + 1}',0), f'G{idx + 1} param{keys}') for idx in [1, 2, 3, 4]]\n",
    "    mdl.collect_parameters(symbolic_param_vec, new_param_label = vals)\n",
    "\n",
    "# check the collected parameters\n",
    "print(mdl.parameter_labels)\n",
    "print(mdl.num_params)"
   ]
  },
  {
   "cell_type": "markdown",
   "metadata": {},
   "source": [
    "Now that we have defined the theoretical model for our gate set, it is time to simulate data to perform GST. To do so, we create an \"experimental_model\" which will act as the noisy operations taking place in the device."
   ]
  },
  {
   "cell_type": "code",
   "execution_count": 17,
   "metadata": {},
   "outputs": [],
   "source": [
    "#Define some noise parameters for the OU noises in phase and intensity\n",
    "omega, taus, cs = 1.2566 * 1e3, [5 * 1e-4, 5 * 1e-4], [2 * 1e4, 2 * 1e4]\n",
    "\n",
    "#params of the noisy operations\n",
    "gs_params = np.array([[pi, 0],[pi/2, 0],[pi/2, pi/2], [pi/2, pi], [pi/2, 3 * pi/2]])\n",
    "\n",
    "noise_params = np.array([omega, taus, cs], dtype = 'object')\n",
    "#The availible faulty inital state parameters\n",
    "state_params = np.array([1e-1, 1e-1, 0.95])\n",
    "#The availible faulty measurement operator parameters\n",
    "measurement_params = np.array([1, 1e-1, 1e-1, 0.95])\n",
    "\n",
    "#We use the `gate_set_noise_params`class to define the experimental gate set\n",
    "Gate_set = gate_set_noise_params(noise_params, state_params, measurement_params, 1, markov_approx, intensity_noise, 'PTM', gs_params)\n",
    "\n",
    "#explicit model definition\n",
    "experimental_mdl = pygsti.models.ExplicitOpModel([0],'pp')\n",
    "\n",
    "#model state\n",
    "experimental_mdl[('rho0',0)] = Gate_set.state()\n",
    "\n",
    "#model measurement\n",
    "experimental_mdl[('Mdefault',0)] = pygsti.modelmembers.povms.UnconstrainedPOVM(\n",
    "    {'0': Gate_set.measurement(),  \n",
    "     '1': [ sqrt(2), 0, 0, 0 ] - Gate_set.measurement()},\n",
    "    evotype='densitymx_slow')\n",
    "\n",
    "\n",
    "# Option 1: simulate the date with gates parameterized with the coloured phase model. We would therefore perform tomography with data \n",
    "# which we are sure that can fit to the theoretical model. This is used for research purposes to test the performance of the model.\n",
    "\n",
    "# for idx, gate in enumerate(myGates):\n",
    "#     experimental_mdl[gate] = Gate_set.gates()[idx]\n",
    "\n",
    "# Option 2: simulate the data with gates obtained averaging over many noisy instances. This does not make any approximation and it is\n",
    "# a more realistic scenario.\n",
    "\n",
    "#Number of stochastic instances\n",
    "Mnoise = 1e3 #Only for testing purpouses. To have an acceptable accuracy set at least Mnoise = 1e4\n",
    "\n",
    "for idx, gate in enumerate(myGates):\n",
    "    experimental_mdl[(gate,0)] = chi2ptm(stochastic_matrices([gs_params[idx, 1]], Mnoise, gs_params[idx, 0], intensity_noise, cs, taus, omega)[0])"
   ]
  },
  {
   "cell_type": "markdown",
   "metadata": {},
   "source": [
    "We seleect the base circuits and fiducial pairs that we shall employ to perform GST. From the theory we know that single gates serve as an amplificationally complete set when working under this parameterization. Additionally, for each parameter, we select the fiducial pair which stimulates it the most.  "
   ]
  },
  {
   "cell_type": "code",
   "execution_count": 34,
   "metadata": {},
   "outputs": [
    {
     "name": "stdout",
     "output_type": "stream",
     "text": [
      "{Circuit(G1:0@(0)): [(0, 0), (0, 1), (0, 3), (1, 3), (2, 4), (3, 1)], Circuit(G2:0@(0)): [(0, 1), (0, 2), (1, 0), (1, 1), (2, 4), (4, 2)], Circuit(G3:0@(0)): [(2, 2)], Circuit(G4:0@(0)): [], Circuit(G5:0@(0)): []}\n"
     ]
    }
   ],
   "source": [
    "myGates = ['G1', 'G2', 'G3', 'G4', 'G5']\n",
    "\n",
    "maxLengths = [2**i for i in range(10)] #maxLengths list\n",
    "\n",
    "# gate set parameters\n",
    "gs_params = np.array([[pi, 0],[pi/2, 0],[pi/2, pi/2], [pi/2, pi], [pi/2, 3 * pi/2]])\n",
    "\n",
    "# unitary value parameters\n",
    "params1 = np.array([0,1e-8,0,0,0,0,1e-8,0,0,0,0,0,1,1,0,0,1])\n",
    "\n",
    "# circuit parts\n",
    "prep_fiducials = pygsti.circuits.to_circuits([[('G1',0)], [('G2',0)], [('G3',0)], [('G4',0)], [('G5',0)]])\n",
    "meas_fiducials = pygsti.circuits.to_circuits([[('G1',0)], [('G2',0)], [('G3',0)], [('G4',0)], [('G5',0)]])\n",
    "germs = pygsti.circuits.to_circuits([[('G1',0)], [('G2',0)], [('G3',0)], [('G4',0)], [('G5',0)]])\n",
    "# germs = germsel.find_germs(mdl)\n",
    "\n",
    "# possible circuits\n",
    "listOfExperiments = pygsti.circuits.gstcircuits.create_lsgst_circuits(mdl, \n",
    "    prep_strs = prep_fiducials, effect_strs = meas_fiducials, germ_list = germs, max_length_list = [1], include_lgst = False)\n",
    "\n",
    "listOfExperiments = list(listOfExperiments)\n",
    "\n",
    "# we create a model with the unitary gates\n",
    "Gate_set1 = gate_set(params1, 1, markov_approx, intensity_noise, 'PTM', gs_params)\n",
    "experimental_mdl1 = pygsti.models.ExplicitOpModel([0],'pp')\n",
    "experimental_mdl1['rho0'] = Gate_set1.state()\n",
    "experimental_mdl1['Mdefault'] = pygsti.modelmembers.povms.UnconstrainedPOVM(\n",
    "    {'0': Gate_set1.measurement(),  \n",
    "     '1': [ sqrt(2), 0, 0, 0 ] - Gate_set1.measurement()},\n",
    "    evotype='densitymx_slow')\n",
    "for idx, gate in enumerate(myGates):\n",
    "    experimental_mdl1[(gate,0)] = (Gate_set1.gates()[idx])# ** maxLengths[len(maxLengths) - 1]\n",
    "\n",
    "data1 = pygsti.data.simulate_data(experimental_mdl1, listOfExperiments, num_samples = 1,\n",
    "                                         sample_error = 'none')\n",
    "\n",
    "epsilon = 1e-7 #small value to perturb the parameters\n",
    "\n",
    "# parameters to perturb depending on the model properties\n",
    "if not markov_approx:\n",
    "    indices = (range(10) if intensity_noise else [0,1,2,3,5,6,7,8,10])\n",
    "else:\n",
    "    indices = ([0,1,4,5,6,9,10] if intensity_noise else [0,1,5,6,10])\n",
    "\n",
    "circuits = []\n",
    "repetitions = int(np.ceil(mdl.num_params / len(indices)))\n",
    "for rep in range(repetitions):\n",
    "    for i in indices:\n",
    "        if i in range(5):\n",
    "            gates_for_this_index = [('G1',0)]\n",
    "        elif i in range(5, 10):\n",
    "            gates_for_this_index = [('G2',0), ('G3',0), ('G4',0), ('G5',0)]\n",
    "\n",
    "        params2 = np.array([0,1e-8,0,0,0,0,1e-8,0,0,0,0,0,1,1,0,0,1])\n",
    "\n",
    "        params2[i] += (epsilon)# if params2[i] < 1 else -epsilon) #perturb the parameter\n",
    "        Gate_set2 = gate_set(params2, 1, markov_approx, intensity_noise, 'PTM', gs_params) #model with perturbed parameters\n",
    "        \n",
    "        experimental_mdl2 = pygsti.models.ExplicitOpModel([0],'pp')\n",
    "        experimental_mdl2['rho0'] = Gate_set2.state()\n",
    "        experimental_mdl2['Mdefault'] = pygsti.modelmembers.povms.UnconstrainedPOVM(\n",
    "            {'0': Gate_set2.measurement(),  \n",
    "            '1': [ sqrt(2), 0, 0, 0 ] - Gate_set2.measurement()},\n",
    "            evotype='densitymx_slow')\n",
    "        for idx, gate in enumerate(myGates):\n",
    "            experimental_mdl2[(gate,0)] = ( Gate_set2.gates()[idx] )# ** maxLengths[len(maxLengths) - 1]\n",
    "\n",
    "        data2 = pygsti.data.simulate_data(experimental_mdl2, listOfExperiments, num_samples = 1,\n",
    "                                                sample_error = 'none')\n",
    "\n",
    "        #dictionary to store the difference between the unperturbed and perturbed datasets\n",
    "        data_dif = {}#dict.fromkeys(listOfExperiments)\n",
    "        for j in listOfExperiments:\n",
    "            if j[1] in gates_for_this_index:\n",
    "                data_dif[j] = np.abs( (data1[j][('0',)] - data2[j][('0',)]) )#/ (data1[j][('0',)] + 1e-6)) # We add a small value to avoid division by zero\n",
    "        sorted_data_dif = np.sort(list(data_dif.values())) #sort the differences\n",
    "        # print(sorted_data_dif[len(sorted_data_dif) - 1])\n",
    "        #we store the circuit with the largest difference or 'stimulation'\n",
    "        circuit = [j for j in data_dif if data_dif[j] == sorted_data_dif[len(sorted_data_dif) - 1]][0]\n",
    "\n",
    "        listOfExperiments.remove(circuit) #remove the circuit from the potential ones to avoid repetitions\n",
    "        circuits.append(circuit)\n",
    "\n",
    "circuits = circuits[:mdl.num_params]\n",
    "\n",
    "# Populate a fidPairs dictionary with the computed circuits\n",
    "fidPairs = {}\n",
    "for i, germ in enumerate(germs):\n",
    "    if germ not in fidPairs:\n",
    "        fidPairs[germ] = []\n",
    "    for j, prep in enumerate(prep_fiducials):\n",
    "        for k, meas in enumerate(meas_fiducials):\n",
    "            circuit = prep + germ + meas\n",
    "            if circuit in circuits:\n",
    "                fidPairs[germ].append((j, k))\n",
    "\n",
    "print(fidPairs)\n",
    "\n",
    "#list of experiments for long sequence GST\n",
    "listOfExperiments = pygsti.circuits.gstcircuits.create_lsgst_circuits(\n",
    "                myGates, prep_fiducials, meas_fiducials, germs, maxLengths, fidPairs, include_lgst = False) #should include fidPairs"
   ]
  },
  {
   "cell_type": "markdown",
   "metadata": {},
   "source": [
    "Alternatively, we can do something similar with pyGSTi builtin functions"
   ]
  },
  {
   "cell_type": "code",
   "execution_count": 19,
   "metadata": {},
   "outputs": [],
   "source": [
    "# import pygsti.algorithms.fiducialselection as fidsel\n",
    "# import pygsti.algorithms.germselection as germsel\n",
    "\n",
    "# # operations for SPAM and germs\n",
    "# prep_fiducials = pygsti.circuits.to_circuits([[('G1',0)], [('G2',0)], [('G3',0)], [('G4',0)], [('G5',0)]])\n",
    "# meas_fiducials = pygsti.circuits.to_circuits([[('G1',0)], [('G2',0)], [('G3',0)], [('G4',0)], [('G5',0)]])\n",
    "# germs = pygsti.circuits.to_circuits([[('G1',0)], [('G2',0)], [('G3',0)], [('G4',0)], [('G5',0)]])\n",
    "\n",
    "# prep_fiducials, meas_fiducials = fidsel.find_fiducials(mdl)\n",
    "# germs = germsel.find_germs(mdl) #, candidate_germ_counts = {1: 'all upto'}) # if we constraint germs to a given length\n",
    "# fidPairs = pygsti.alg.find_sufficient_fiducial_pairs_per_germ(mdl, prep_fiducials, meas_fiducials, germs = germs,\n",
    "#                                                              search_mode = 'sequential', verbosity = 1, retry_for_smaller = True)\n",
    "\n",
    "# # fidPairs = pygsti.alg.find_sufficient_fiducial_pairs_per_germ_global(mdl, prep_fiducials, meas_fiducials, germs = germs,\n",
    "# #                                                              verbosity = 1)\n",
    "\n",
    "# print(fidPairs)\n",
    "\n",
    "# # list of max lengths for long-sequence circutis\n",
    "# maxLengths = [2**i for i in range(7)]\n",
    "\n",
    "# # the list of experiments to execute\n",
    "# listOfExperiments = pygsti.circuits.gstcircuits.create_lsgst_circuits(\n",
    "#     myGates, prep_fiducials, meas_fiducials, germs, maxLengths, include_lgst = False) #should include fidPairs when needed"
   ]
  },
  {
   "cell_type": "markdown",
   "metadata": {},
   "source": [
    "Data simulation. We might have some ComplexWarning because the average stochastic matrices have some remaining negligible complex elements"
   ]
  },
  {
   "cell_type": "code",
   "execution_count": 20,
   "metadata": {},
   "outputs": [
    {
     "name": "stderr",
     "output_type": "stream",
     "text": [
      "/Users/pablovinasmartinez/opt/anaconda3/envs/coloured_GST/lib/python3.12/site-packages/pygsti/models/model.py:974: ComplexWarning: Casting complex values to real discards the imaginary part\n",
      "  w[obj.gpindices] = obj.to_vector()\n",
      "/Users/pablovinasmartinez/opt/anaconda3/envs/coloured_GST/lib/python3.12/site-packages/pygsti/forwardsims/matrixforwardsim.py:746: ComplexWarning: Casting complex values to real discards the imaginary part\n",
      "  prodCache[iDest] = gate / nG\n"
     ]
    }
   ],
   "source": [
    "#shots to obtain experimental frequencies for each circuit\n",
    "shots = 1e7\n",
    "\n",
    "#simulate the data\n",
    "data = pygsti.data.simulate_data(experimental_mdl, listOfExperiments, num_samples = shots,\n",
    "                                         sample_error = 'binomial')"
   ]
  },
  {
   "cell_type": "markdown",
   "metadata": {},
   "source": [
    "We fit using long sequence GTS. We do not need to perfrom gauge optimisation because there is not gauge freedom with our parameterization."
   ]
  },
  {
   "cell_type": "code",
   "execution_count": 21,
   "metadata": {},
   "outputs": [
    {
     "name": "stdout",
     "output_type": "stream",
     "text": [
      "--- Circuit Creation ---\n",
      "--- Iterative GST: [##################################################] 100.0%  130 circuits ---\n"
     ]
    }
   ],
   "source": [
    "#some custom GST options\n",
    "my_adv_options = {'tolerance': 1e-4, 'starting_point': 'target', 'max_iterations': 1000}\n",
    "\n",
    "#run lsGST\n",
    "results = pygsti.run_long_sequence_gst(data, mdl, prep_fiducials, meas_fiducials,\n",
    "                                           germs, maxLengths, gauge_opt_params = False, advanced_options = my_adv_options, verbosity = 1)\n",
    "                                           \n",
    "\n",
    "#We define a model with the results\n",
    "mdl_estimate = results.estimates['GateSetTomography'].models['final iteration estimate']"
   ]
  },
  {
   "cell_type": "markdown",
   "metadata": {},
   "source": [
    "Let's compare the resutls"
   ]
  },
  {
   "cell_type": "code",
   "execution_count": 22,
   "metadata": {},
   "outputs": [
    {
     "name": "stdout",
     "output_type": "stream",
     "text": [
      "[[ 1.00000000e+00  0.00000000e+00  0.00000000e+00  0.00000000e+00]\n",
      " [ 0.00000000e+00  9.99996429e-01  0.00000000e+00  0.00000000e+00]\n",
      " [ 0.00000000e+00  0.00000000e+00 -9.99994256e-01  3.13239629e-05]\n",
      " [ 0.00000000e+00  0.00000000e+00 -3.13239629e-05 -9.99994256e-01]]\n",
      "[[ 1.00000000e+00+0.j -6.77626358e-21+0.j -2.33103467e-18+0.j\n",
      "   0.00000000e+00+0.j]\n",
      " [-1.30485426e-21+0.j  9.99996410e-01+0.j  5.65039730e-05+0.j\n",
      "  -5.27725092e-05+0.j]\n",
      " [ 2.32886415e-18+0.j  5.66588490e-05+0.j -9.99994623e-01+0.j\n",
      "   3.07743001e-05+0.j]\n",
      " [ 0.00000000e+00+0.j -5.30364764e-05+0.j -3.04564470e-05+0.j\n",
      "  -9.99993628e-01+0.j]]\n",
      "7.762764077246817e-05\n"
     ]
    }
   ],
   "source": [
    "G_estimate, G_experimental = mdl_estimate[('G1',0)].to_dense(), experimental_mdl[('G1',0)].to_dense()\n",
    "\n",
    "print(G_estimate)\n",
    "print(G_experimental)\n",
    "\n",
    "print(pygsti.tools.tracedist(mdl_estimate[('G1',0)].to_dense(), experimental_mdl[('G1',0)].to_dense()))"
   ]
  },
  {
   "cell_type": "markdown",
   "metadata": {},
   "source": [
    "To see if GST recovers the right parameters, let us use data simulated with the parameterized model (Option 1 in the experimental model cell). To make sure everything works, we will use a **very noisy** model."
   ]
  },
  {
   "cell_type": "code",
   "execution_count": 23,
   "metadata": {},
   "outputs": [
    {
     "name": "stdout",
     "output_type": "stream",
     "text": [
      "--- Circuit Creation ---\n",
      "--- Iterative GST: [##################################################] 100.0%  130 circuits ---\n"
     ]
    }
   ],
   "source": [
    "#some custom GST options\n",
    "my_adv_options = {'tolerance': 1e-4, 'starting_point': 'target', 'max_iterations': 1000}\n",
    "\n",
    "#Define some noise parameters for the OU noises\n",
    "omega, taus, cs = 1.2566 * 1e3, [5 * 1e-4, 5 * 1e-4], [2 * 1e8, 2 * 1e8]\n",
    "\n",
    "#params of the noisy operations\n",
    "gs_params = np.array([[pi, 0],[pi/2, 0],[pi/2, pi/2], [pi/2, pi], [pi/2, 3 * pi/2]])\n",
    "\n",
    "noise_params = np.array([omega, taus, cs], dtype = 'object')\n",
    "#The availible faulty inital state parameters\n",
    "state_params = np.array([1e-1, 1e-1, 0.95])\n",
    "#The availible faulty measurement operator parameters\n",
    "measurement_params = np.array([1, 1e-1, 1e-1, 0.95])\n",
    "\n",
    "#We use the `gate_set_noise_params`class to define the experimental gate set\n",
    "Gate_set = gate_set_noise_params(noise_params, state_params, measurement_params, 1, markov_approx, intensity_noise, 'PTM', gs_params)\n",
    "\n",
    "#explicit model definition\n",
    "experimental_mdl = pygsti.models.ExplicitOpModel([0],'pp')\n",
    "\n",
    "#model state\n",
    "experimental_mdl['rho0'] = Gate_set.state()\n",
    "\n",
    "#model measurement\n",
    "experimental_mdl['Mdefault'] = pygsti.modelmembers.povms.UnconstrainedPOVM(\n",
    "    {'0': Gate_set.measurement(),  \n",
    "     '1': [ sqrt(2), 0, 0, 0 ] - Gate_set.measurement()},\n",
    "    evotype='densitymx_slow')\n",
    "\n",
    "for idx, gate in enumerate(myGates):\n",
    "    experimental_mdl[(gate,0)] = Gate_set.gates()[idx]\n",
    "\n",
    "#shots to obtain experimental frequencies for each circuit\n",
    "shots = 1e4\n",
    "\n",
    "#simulate the data\n",
    "data = pygsti.data.simulate_data(experimental_mdl, listOfExperiments, num_samples = shots,\n",
    "                                         sample_error = 'binomial')\n",
    "\n",
    "\n",
    "#run lsGST\n",
    "results = pygsti.run_long_sequence_gst(data, mdl, prep_fiducials, meas_fiducials,\n",
    "                                           germs, maxLengths, gauge_opt_params = False, advanced_options = my_adv_options, verbosity = 1)     \n",
    "\n",
    "#We define a model with the results\n",
    "mdl_estimate = results.estimates['GateSetTomography'].models['final iteration estimate']     \n",
    "# mdl_estimate = pygsti.algorithms.gaugeopt_to_target(mdl_estimate, experimental_mdl, verbosity = 1) # we can test gauge opt                   "
   ]
  },
  {
   "cell_type": "markdown",
   "metadata": {},
   "source": [
    "We compare the parameters. We get some shot noise, but recover the correct set."
   ]
  },
  {
   "cell_type": "code",
   "execution_count": 24,
   "metadata": {},
   "outputs": [
    {
     "name": "stdout",
     "output_type": "stream",
     "text": [
      "[0.04057237 0.01848589 0.10049418]\n",
      "(0.04089667396096544, 0.020026551703634543, 0.0, 0.0, 0.10017211051410037)\n"
     ]
    }
   ],
   "source": [
    "G_estimate, G_experimental = mdl_estimate[('G1',0)].to_dense(), experimental_mdl[('G1',0)].to_dense()\n",
    "vec_estimate, vec_experimental = mdl_estimate[('G1',0)].to_vector(), quantum_channel(pi, omega, taus, cs, p = 1, markovian_approx = markov_approx\n",
    "                                                                                 , intensity_noise = intensity_noise,  representation = 'PTM', phase = 0)[1:]\n",
    "\n",
    "print(vec_estimate)\n",
    "print(vec_experimental)"
   ]
  },
  {
   "cell_type": "markdown",
   "metadata": {},
   "source": [
    "We finally also compare the gates"
   ]
  },
  {
   "cell_type": "code",
   "execution_count": 25,
   "metadata": {},
   "outputs": [
    {
     "name": "stdout",
     "output_type": "stream",
     "text": [
      "[[ 1.          0.          0.          0.        ]\n",
      " [ 0.          0.96023967  0.          0.        ]\n",
      " [ 0.          0.         -0.93185692  0.00861335]\n",
      " [ 0.          0.         -0.00861335 -0.93185692]]\n",
      "[[ 1.          0.          0.          0.        ]\n",
      " [ 0.          0.95992831  0.          0.        ]\n",
      " [ 0.          0.         -0.93184897  0.00933117]\n",
      " [ 0.          0.         -0.00933117 -0.93184897]]\n",
      "[0.02411155+0.j 0.95600828+0.j 0.00994008-0.j 0.00994008+0.j]\n",
      "0.0009392299030639617\n"
     ]
    }
   ],
   "source": [
    "print(G_estimate)\n",
    "print(G_experimental)\n",
    "print(np.linalg.eig(ptm2chi(G_estimate))[0]) # we check that the eigenvalues of the chi matrix are positive (complete positivity)\n",
    "\n",
    "print(pygsti.tools.tracedist(mdl_estimate[('G2',0)].to_dense(), experimental_mdl[('G2',0)].to_dense()))"
   ]
  },
  {
   "cell_type": "markdown",
   "metadata": {},
   "source": [
    "Let us now check that the IC set is attained when the number of independent circuits used for GST approximates to the number of parameters to determine. To avoid local minima issues when depth = 1, we are doing it setting intensity_noise = False. It is important to **re-run** previous cells accordingly to replicate the results. The number of parameters for this case is $N_{\\rm param} = 11$"
   ]
  },
  {
   "cell_type": "code",
   "execution_count": 13,
   "metadata": {},
   "outputs": [
    {
     "name": "stderr",
     "output_type": "stream",
     "text": [
      "/Users/pablovinasmartinez/opt/anaconda3/envs/coloured_GST/lib/python3.12/site-packages/pygsti/layouts/evaltree.py:183: UserWarning: Created an evaluation tree that is inefficient: tree-size > 3 * #circuits !\n",
      "This is likely due to the fact that the circuits being simulated do not have a\n",
      "periodic structure. Consider using a different forward simulator (e.g. MapForwardSimulator).\n",
      "  _warnings.warn((\"Created an evaluation tree that is inefficient: tree-size > %d * #circuits !\\n\"\n"
     ]
    }
   ],
   "source": [
    "iterations = 10\n",
    "num_circs = range(2,20)\n",
    "shots = 1e9\n",
    "maxLengths = [1]\n",
    "results_array  = np.empty([len(num_circs), iterations])\n",
    "\n",
    "#list of circs with maxLenght = 1\n",
    "listOfExperiments = pygsti.circuits.gstcircuits.create_lsgst_circuits(\n",
    "    myGates, prep_fiducials, meas_fiducials, germs, maxLengths, fidPairs, include_lgst = False) #should include fidPairs when needed\n",
    "\n",
    "# extra circuits to add to the list\n",
    "the_extra_circs = []\n",
    "for germ in germs:\n",
    "    for prep in prep_fiducials:\n",
    "        for meas in meas_fiducials:\n",
    "            circuit = prep + germ + meas\n",
    "            if circuit not in listOfExperiments:\n",
    "                the_extra_circs.append(circuit)\n",
    "\n",
    "listOfExperiments = list(listOfExperiments) + the_extra_circs\n",
    "\n",
    "for iter in range(iterations):\n",
    "    for index, circs in enumerate(num_circs):\n",
    "\n",
    "        # this is to rewrite the circuit_list in the appropriate fidPairs format\n",
    "        fidPairs = {}\n",
    "        for i, germ in enumerate(germs):\n",
    "            if germ not in fidPairs:\n",
    "                fidPairs[germ] = []\n",
    "            for j, prep in enumerate(prep_fiducials):\n",
    "                for k, meas in enumerate(meas_fiducials):\n",
    "                    circuit = prep + germ + meas\n",
    "                    if circuit in listOfExperiments[0:circs]:\n",
    "                        fidPairs[germ].append((j, k))\n",
    "\n",
    "        experiments = pygsti.circuits.gstcircuits.create_lsgst_circuits(\n",
    "                 myGates, prep_fiducials, meas_fiducials, germs, maxLengths, fidPairs, include_lgst = False) #should include fidPairs\n",
    "\n",
    "        #simulate the data\n",
    "        data = pygsti.data.simulate_data(experimental_mdl, experiments, num_samples = shots,\n",
    "                                                sample_error = 'binomial')\n",
    "\n",
    "\n",
    "        #run lsGST\n",
    "        results = pygsti.run_long_sequence_gst(data, mdl, prep_fiducials, meas_fiducials,\n",
    "                                                germs, maxLengths, gauge_opt_params = False, advanced_options = my_adv_options, verbosity = 0)     \n",
    "\n",
    "        #We define a model with the results\n",
    "        mdl_estimate = results.estimates['GateSetTomography'].models['final iteration estimate']   \n",
    "        \n",
    "        # experimental_mdl = pygsti.algorithms.gaugeopt_to_target(experimental_mdl1, experimental_mdl) # we can test gauge opt\n",
    "\n",
    "        results_array [index, iter] = 0\n",
    "        for idx, gate in enumerate(myGates):\n",
    "            results_array [index, iter] += pygsti.tools.tracedist(mdl_estimate[(gate,0)].to_dense(), experimental_mdl[(gate,0)].to_dense()) / (len(myGates) + 2)\n",
    "        vec1, vec2 = mdl_estimate['rho0'].to_vector(), mdl_estimate['Mdefault'].to_vector()\n",
    "        results_array [index, iter] += np.sqrt((1e-1/sqrt(2) - vec1[0]) ** 2 + (1e-1/sqrt(2) - vec1[1]) ** 2 + (0.95/sqrt(2) - vec1[2]) ** 2) / (len(myGates) + 2)\n",
    "        results_array [index, iter] += np.sqrt((1e-1/sqrt(2) - vec2[1]) ** 2 + (1e-1/sqrt(2) - vec2[2]) ** 2 + (0.95/sqrt(2) - vec2[3]) ** 2) / (len(myGates) + 2)                          "
   ]
  },
  {
   "cell_type": "markdown",
   "metadata": {},
   "source": [
    "Check that we get accurate results with, at least, $N_{\\rm circs} = N_{\\rm params}=11$"
   ]
  },
  {
   "cell_type": "code",
   "execution_count": 14,
   "metadata": {},
   "outputs": [
    {
     "data": {
      "image/png": "[encoded data removed]",
      "text/plain": [
       "<Figure size 640x480 with 1 Axes>"
      ]
     },
     "metadata": {},
     "output_type": "display_data"
    }
   ],
   "source": [
    "import matplotlib.pyplot as plt\n",
    "import numpy as np\n",
    "\n",
    "#we average ethe results over the iterations\n",
    "trace_distances = results_array.mean(axis = 1)\n",
    "\n",
    "# Creating the log-log plot\n",
    "plt.semilogy(np.array(num_circs) * len(maxLengths), trace_distances, marker='o', linestyle='-', color='b')\n",
    "\n",
    "# Adding labels and title\n",
    "plt.xlabel('Number of Circuits')\n",
    "plt.ylabel('Trace Distance')\n",
    "plt.title('Trace Distance as a Function of the Number of Circuits')\n",
    "\n",
    "# Display the plot\n",
    "plt.show()"
   ]
  },
  {
   "cell_type": "markdown",
   "metadata": {},
   "source": [
    "Lastly, we will progressively increase the number of shots to reproduce Fig. 3 of the paper. We select an interval of shots ranging in $N_{\\rm b,s}\\in [10^2-10^7]$. We repeat the experiment 10 times to limit the variance. (Run option 1 for Fig.3, and option 2 for Fig. 4)"
   ]
  },
  {
   "cell_type": "code",
   "execution_count": 64,
   "metadata": {},
   "outputs": [
    {
     "name": "stdout",
     "output_type": "stream",
     "text": [
      "0\n",
      "1\n",
      "2\n",
      "3\n",
      "4\n",
      "5\n",
      "6\n",
      "7\n",
      "8\n",
      "9\n"
     ]
    }
   ],
   "source": [
    "my_adv_options = {'tolerance': 1e-4, 'starting_point': 'target', 'max_iterations': 1000}\n",
    "\n",
    "##This will take some minutes\n",
    "omega, taus, cs = 1.2566 * 1e3, [5 * 1e-4, 5 * 1e-4], [2 * 1e4, 2 * 1e5]\n",
    "\n",
    "#params of the noisy operations\n",
    "gs_params = np.array([[pi, 0],[pi/2, 0],[pi/2, pi/2], [pi/2, pi], [pi/2, 3 * pi/2]])\n",
    "\n",
    "noise_params = np.array([omega, taus, cs], dtype = 'object')\n",
    "\n",
    "\n",
    "#We use the `gate_set_noise_params`class to define the experimental gate set\n",
    "Gate_set = gate_set_noise_params(noise_params, state_params, measurement_params, 1, markov_approx, intensity_noise, 'PTM', gs_params)\n",
    "\n",
    "#explicit model definition\n",
    "experimental_mdl = pygsti.models.ExplicitOpModel([0],'pp')\n",
    "\n",
    "#model state\n",
    "experimental_mdl['rho0'] = Gate_set.state()\n",
    "\n",
    "#model measurement\n",
    "experimental_mdl['Mdefault'] = pygsti.modelmembers.povms.UnconstrainedPOVM(\n",
    "    {'0': Gate_set.measurement(),  \n",
    "     '1': [ sqrt(2), 0, 0, 0 ] - Gate_set.measurement()},\n",
    "    evotype='densitymx_slow')\n",
    "\n",
    "for idx, gate in enumerate(myGates):\n",
    "    experimental_mdl[(gate,0)] = Gate_set.gates()[idx]\n",
    "\n",
    "\n",
    "\n",
    "######### FOR OPT. 1 #########\n",
    "# shots_array = np.logspace(2,7,10)\n",
    "##############################\n",
    "\n",
    "######### FOR OPT. 2 #########\n",
    "shots_array = [1e3]\n",
    "##############################\n",
    "\n",
    "#To obtain accurate results we should set iterations = 100\n",
    "iterations = 10\n",
    "\n",
    "results_array = np.empty([len(shots_array), iterations])\n",
    "\n",
    "results_vs_p = np.empty([len(maxLengths), iterations])\n",
    "\n",
    "for idx, shots in enumerate(shots_array):\n",
    "\n",
    "    for iter in range(iterations): \n",
    "\n",
    "        print(iter)\n",
    "    \n",
    "        #simulate the data\n",
    "        data = pygsti.data.simulate_data(experimental_mdl, listOfExperiments, num_samples = shots,\n",
    "                                                sample_error = 'binomial')\n",
    "\n",
    "        #run lsGST\n",
    "        results = pygsti.run_long_sequence_gst(data, mdl, prep_fiducials, meas_fiducials,\n",
    "                                                germs, maxLengths, gauge_opt_params = False, advanced_options = my_adv_options, verbosity = 0)   \n",
    "\n",
    "\n",
    "        #We define a model with the results and get the trace distance between the experimental and estimated models\n",
    "\n",
    "        ######### FOR OPT. 1 #########\n",
    "\n",
    "        # mdl_estimate = results.estimates['GateSetTomography'].models['final iteration estimate']   \n",
    "\n",
    "        # results_array[idx, iter] = 0\n",
    "        # for gate in myGates:\n",
    "        #     results_array[idx, iter] += pygsti.tools.tracedist(mdl_estimate[(gate,0)].to_dense(), experimental_mdl[(gate,0)].to_dense()) / (len(myGates) + 2)\n",
    "            \n",
    "        # vec1, vec2 = mdl_estimate['rho0'].to_vector(), mdl_estimate['Mdefault'].to_vector()\n",
    "        # results_array[idx, iter] += np.sqrt((1e-1/sqrt(2) - vec1[0]) ** 2 + (1e-1/sqrt(2) - vec1[1]) ** 2 + (0.95/sqrt(2) - vec1[2]) ** 2) / (len(myGates) + 2)\n",
    "        # results_array[idx, iter] += np.sqrt((1e-1/sqrt(2) - vec2[1]) ** 2 + (1e-1/sqrt(2) - vec2[2]) ** 2 + (0.95/sqrt(2) - vec2[3]) ** 2) / (len(myGates) + 2)  \n",
    "\n",
    "        ##############################  \n",
    "\n",
    "        ######### FOR OPT. 2 #########\n",
    "\n",
    "        get_results = results.estimates['GateSetTomography']\n",
    "\n",
    "        for i in range(len(get_results.models) - 4):\n",
    "        \n",
    "            mdl_estimate = results.estimates['GateSetTomography'].models[f'iteration {i} estimate'] \n",
    "\n",
    "            # mdl_estimate = pygsti.algorithms.gaugeopt_to_target(mdl_estimate, experimental_mdl) # we can test gauge opt\n",
    "\n",
    "            results_vs_p[i, iter] = 0\n",
    "            for idx, gate in enumerate(myGates):\n",
    "                # print(gate, pygsti.tools.tracedist(mdl_estimate[(gate,0)].to_dense(), experimental_mdl[(gate,0)].to_dense()) / (len(myGates)))\n",
    "                results_vs_p[i, iter] += pygsti.tools.tracedist(mdl_estimate[(gate,0)].to_dense(), experimental_mdl[(gate,0)].to_dense()) / (len(myGates))\n",
    "\n",
    "                # we avoid computing trace distances for SPAM elements becouse those parameters are not amplified in lsGST.\n",
    "\n",
    "        ##############################                     "
   ]
  },
  {
   "cell_type": "code",
   "execution_count": 62,
   "metadata": {},
   "outputs": [
    {
     "name": "stdout",
     "output_type": "stream",
     "text": [
      "slope =  -0.5328357222248331\n"
     ]
    },
    {
     "data": {
      "image/png": "[encoded data removed]",
      "text/plain": [
       "<Figure size 640x480 with 1 Axes>"
      ]
     },
     "metadata": {},
     "output_type": "display_data"
    }
   ],
   "source": [
    "import matplotlib.pyplot as plt\n",
    "import numpy as np\n",
    "\n",
    "#we average ethe results over the iterations\n",
    "trace_distances = results_array.mean(axis = 1)\n",
    "\n",
    "#linear fit\n",
    "log_x = np.log10(shots_array)\n",
    "log_y = np.log10(trace_distances)\n",
    "coefficients = np.polyfit(log_x, log_y, 1)  # 1 means linear\n",
    "print('slope = ', coefficients[0])\n",
    "polynomial = np.poly1d(coefficients)\n",
    "fit_x = np.linspace(min(log_x), max(log_x), 100)\n",
    "fit_y = np.power(10, polynomial(fit_x))\n",
    "fit_x_original_scale = np.power(10, fit_x)\n",
    "\n",
    "# Creating the log-log plot\n",
    "plt.loglog(fit_x_original_scale, fit_y, 'r-', label = 'linear fit')\n",
    "plt.loglog(shots_array, trace_distances, marker='o', linestyle='-', color='b', label = 'original data')\n",
    "\n",
    "# Adding labels and title\n",
    "plt.xlabel('Number of Shots')\n",
    "plt.ylabel('Trace Distance')\n",
    "plt.title('Trace Distance as a Function of Number of Shots')\n",
    "plt.legend()\n",
    "\n",
    "# Display the plot\n",
    "plt.show()"
   ]
  },
  {
   "cell_type": "markdown",
   "metadata": {},
   "source": [
    "If we repeat this experiment many times, we should obtain a slope close to -0.5. This can be already appreciated in the graph above for just 10 iteration. If we plot the results as a function of depth, the slope should be near -1 (Fig. 4)."
   ]
  },
  {
   "cell_type": "code",
   "execution_count": 65,
   "metadata": {},
   "outputs": [
    {
     "name": "stdout",
     "output_type": "stream",
     "text": [
      "slope =  -1.0983870418453507\n"
     ]
    },
    {
     "data": {
      "image/png": "[encoded data removed]",
      "text/plain": [
       "<Figure size 640x480 with 1 Axes>"
      ]
     },
     "metadata": {},
     "output_type": "display_data"
    }
   ],
   "source": [
    "import matplotlib.pyplot as plt\n",
    "import numpy as np\n",
    "\n",
    "#we average ethe results over the iterations\n",
    "trace_distances = results_vs_p.mean(axis = 1)\n",
    "maxLengths = [2**i for i in range(10)]\n",
    "# trace_distances = trace_distances[1:len(maxLengths)]\n",
    "# maxLengths = maxLengths[1:len(maxLengths)]\n",
    "\n",
    "# Creating the log-log plot\n",
    "plt.loglog(maxLengths, trace_distances, marker='o', linestyle='-', color='b', label = 'original data')\n",
    "\n",
    "#linear fit\n",
    "log_x = np.log10(maxLengths)\n",
    "log_y = np.log10(trace_distances)\n",
    "coefficients = np.polyfit(log_x, log_y, 1)  # 1 means linear\n",
    "print('slope = ', coefficients[0])\n",
    "polynomial = np.poly1d(coefficients)\n",
    "fit_x = np.linspace(min(log_x), max(log_x), 100)\n",
    "fit_y = np.power(10, polynomial(fit_x))\n",
    "fit_x_original_scale = np.power(10, fit_x)\n",
    "\n",
    "plt.loglog(fit_x_original_scale, fit_y, 'r-', label='linear fit')\n",
    "\n",
    "# Adding labels and title\n",
    "plt.xlabel('p')\n",
    "plt.ylabel('Trace Distance')\n",
    "plt.title('Trace Distance as a Function of Depth')\n",
    "plt.legend()\n",
    "\n",
    "# Display the plot\n",
    "plt.show()"
   ]
  },
  {
   "cell_type": "code",
   "execution_count": null,
   "metadata": {},
   "outputs": [],
   "source": []
  }
 ],
 "metadata": {
  "kernelspec": {
   "display_name": "coloured_GST",
   "language": "python",
   "name": "python3"
  },
  "language_info": {
   "codemirror_mode": {
    "name": "ipython",
    "version": 3
   },
   "file_extension": ".py",
   "mimetype": "text/x-python",
   "name": "python",
   "nbconvert_exporter": "python",
   "pygments_lexer": "ipython3",
   "version": "3.12.3"
  }
 },
 "nbformat": 4,
 "nbformat_minor": 2
}
