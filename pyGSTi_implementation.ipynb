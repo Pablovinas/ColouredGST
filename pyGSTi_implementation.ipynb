{
 "cells": [
  {
   "cell_type": "markdown",
   "metadata": {},
   "source": [
    "Imports. Ensure that the `main_functions.py` file is correclty imported "
   ]
  },
  {
   "cell_type": "code",
   "execution_count": 15,
   "metadata": {},
   "outputs": [],
   "source": [
    "import pygsti\n",
    "import pygsti.modelmembers as mm\n",
    "import numpy as np\n",
    "from math import pi\n",
    "from main_functions import * "
   ]
  },
  {
   "cell_type": "markdown",
   "metadata": {},
   "source": [
    "Let's begin with the model definition. We build an explicit model and add custome operations to impose the parametrization in the coloured phase model. To know more about this check the `CustomeOperator.ipynb` tutorial availible at pyGSTi docs. First, we need to define the operator class to add gates to the model"
   ]
  },
  {
   "cell_type": "code",
   "execution_count": 2,
   "metadata": {},
   "outputs": [],
   "source": [
    "#operator class for the gate\n",
    "\n",
    "class G(pygsti.modelmembers.operations.DenseOperator):\n",
    "\n",
    "    def __init__(self, markov_approx, pulse_duration, phase, representation, gate_index):\n",
    "        #initialize with no noise\n",
    "        super(G, self).__init__(np.identity(4,'d'), 'pp', \"densitymx_slow\") # this is *super*-operator, so \"densitymx\"\n",
    "        \n",
    "        self.markov_approx = markov_approx\n",
    "        self.pulse_duration = pulse_duration\n",
    "        self.phase = phase\n",
    "        self.representation = representation\n",
    "        self.gate_index = gate_index\n",
    "\n",
    "        if self.markov_approx:\n",
    "            self.from_vector([0, 1e-8]) #Small value to avoid divison by zero \n",
    "        else:\n",
    "            self.from_vector([0, 1e-8, 0, 0]) #Small value to avoid divison by zero \n",
    "    \n",
    "    #return the number of parameters\n",
    "    @property\n",
    "    def num_params(self):\n",
    "\n",
    "        if self.markov_approx:\n",
    "            return 2\n",
    "        else:\n",
    "            return 4\n",
    "\n",
    "    #return the labels of the parameters\n",
    "    @property\n",
    "    def parameter_labels(self):\n",
    "\n",
    "        if self.markov_approx:\n",
    "            return [ (f'G{self.gate_index} param1'),\n",
    "                     (f'G{self.gate_index} param2')]\n",
    "        else:\n",
    "            return [ (f'G{self.gate_index} param1'),\n",
    "                    (f'G{self.gate_index} param2'),\n",
    "                    (f'G{self.gate_index} param3'),\n",
    "                    (f'G{self.gate_index} param4')]\n",
    "\n",
    "    #parameter bounds\n",
    "    @property\n",
    "    def parameter_bounds(self): #\\Gamma_1 > 0 to ensure complete positivity of the matrices\n",
    "\n",
    "        if self.markov_approx:\n",
    "            return [(0, np.inf),\n",
    "                    (-np.inf, np.inf)]\n",
    "        else:\n",
    "            return [(0, np.inf),\n",
    "                    (-np.inf, np.inf),\n",
    "                    (-np.inf, np.inf),\n",
    "                    (-np.inf, np.inf)]\n",
    "    \n",
    "    def to_vector(self):\n",
    "\n",
    "        if self.markov_approx:\n",
    "            return np.array([self.Gamma_1, self.Delta_1],'d')\n",
    "        else:\n",
    "            return np.array([self.Gamma_1, self.Delta_1, self.Gamma_2, self.Delta_2],'d') #our parameter vector\n",
    "        \n",
    "    def from_vector(self, v, close=False, dirty_value=True):\n",
    "\n",
    "        #initialize from parameter vector v\n",
    "        self.Gamma_1 = v[0]\n",
    "        self.Delta_1 = v[1]\n",
    "\n",
    "        if self.markov_approx:\n",
    "            self.Gamma_2 = 0\n",
    "            self.Delta_2 = 0\n",
    "        else:\n",
    "            self.Gamma_2 = v[2]\n",
    "            self.Delta_2 = v[3]\n",
    "        \n",
    "        # ._ptr is a member of DenseOperator and is a numpy array that is \n",
    "        # the dense Pauli transfer matrix of this operator\n",
    "        # Technical note: use [:,:] instead of direct assignment so id of self._ptr doesn't change\n",
    "        # self._ptr[:,:] = build_gate_ptm(np.array([self.Gamma_1, self.Delta_1,  self.Gamma_2,  self.Delta_2], 'd'),\n",
    "        #                                 self.pulse_duration, self.markov_approx, phase = self.phase)\n",
    "\n",
    "        # we build the gate in the phase noise model using the function `build_gate_ptm'\n",
    "        self._ptr[:,:] = build_gate_ptm(np.array([self.Gamma_1, self.Delta_1,  self.Gamma_2,  self.Delta_2], 'd'),\n",
    "                                    self.pulse_duration, self.markov_approx, phase = self.phase)\n",
    "\n",
    "        self.dirty = dirty_value  # mark that parameter vector may have changed"
   ]
  },
  {
   "cell_type": "markdown",
   "metadata": {},
   "source": [
    "Now we can add custom operations to define our gate set"
   ]
  },
  {
   "cell_type": "code",
   "execution_count": 3,
   "metadata": {},
   "outputs": [
    {
     "name": "stdout",
     "output_type": "stream",
     "text": [
      "rho0 = TPState with dimension 4\n",
      " 0.71   0   0 0.71\n",
      "\n",
      "\n",
      "Mdefault = TPPOVM with effect vectors:\n",
      "0: FullPOVMEffect with dimension 4\n",
      " 0.71   0   0 0.71\n",
      "\n",
      "1: ComplementPOVMEffect with dimension 4\n",
      " 0.71   0   0-0.71\n",
      "\n",
      "\n",
      "\n",
      "G1 = \n",
      "G with shape (4, 4)\n",
      " 1.00   0   0   0\n",
      "   0 1.00   0   0\n",
      "   0   0-1.00   0\n",
      "   0   0   0-1.00\n",
      "\n",
      "\n",
      "G2 = \n",
      "G with shape (4, 4)\n",
      " 1.00   0   0   0\n",
      "   0 1.00   0   0\n",
      "   0   0   0-1.00\n",
      "   0   0 1.00   0\n",
      "\n",
      "\n",
      "G3 = \n",
      "G with shape (4, 4)\n",
      " 1.00   0   0   0\n",
      "   0   0   0-1.00\n",
      "   0   0 1.00   0\n",
      "   0 1.00   0   0\n",
      "\n",
      "\n",
      "G4 = \n",
      "G with shape (4, 4)\n",
      " 1.00   0   0   0\n",
      "   0 1.00   0   0\n",
      "   0   0   0 1.00\n",
      "   0   0-1.00   0\n",
      "\n",
      "\n",
      "G5 = \n",
      "G with shape (4, 4)\n",
      " 1.00   0   0   0\n",
      "   0   0   0 1.00\n",
      "   0   0 1.00   0\n",
      "   0-1.00   0   0\n",
      "\n",
      "\n",
      "\n",
      "\n"
     ]
    }
   ],
   "source": [
    "#For this tutorial we will use the Markov approximation, so that \\Gamma_2 = \\Delta_2 = 0.\n",
    "markov_approx = True\n",
    "\n",
    "#Explicit model\n",
    "mdl = pygsti.models.ExplicitOpModel(['Q0'],'pp')\n",
    "\n",
    "#We add the initial state. It is constrained to be trace preserving\n",
    "mdl['rho0'] = mm.states.TPState( np.array([ 1/sqrt(2), 0, 0, 1/sqrt(2) ], 'd'), \n",
    "                                       evotype = 'densitymx_slow') # density matrix [[1, 0], [0, 0]] in Pauli basis\n",
    "\n",
    "\n",
    "#We also add a physical measurement operator with two effects.\n",
    "mdl['Mdefault'] = mm.povms.TPPOVM(\n",
    "    {'0': [ 1/sqrt(2), 0, 0, 1/sqrt(2) ],   # projector onto [[1, 0], [0, 0]] in Pauli basis\n",
    "     '1': [ 1/sqrt(2), 0, 0, -1/sqrt(2) ] },# projector onto [[0, 0], [0, 1]] in Pauli basis\n",
    "    evotype = 'densitymx_slow') # Specify the evolution type when initializing from NumPy arrays.\n",
    "                                # densitymx is the default\n",
    "\n",
    "\n",
    "# We add the operations of the chosen gate set to the model\n",
    "\n",
    "myGates = ['G1', 'G2', 'G3', 'G4', 'G5']\n",
    "gateSetParams = {'G1': [np.pi, 0], \n",
    "                 'G2': [np.pi / 2, 0],\n",
    "                 'G3': [np.pi / 2, np.pi / 2],\n",
    "                 'G4': [np.pi / 2, np.pi],\n",
    "                 'G5': [np.pi / 2, 3 * np.pi / 2]}\n",
    "\n",
    "for idx, gate in enumerate(myGates):\n",
    "    mdl[gate] = G(markov_approx, *gateSetParams[gate], 'PTM', idx + 1)\n",
    "\n",
    "#print the model\n",
    "print(mdl)\n"
   ]
  },
  {
   "cell_type": "markdown",
   "metadata": {},
   "source": [
    "Now, we know from the theoretical model that gates with same pusle duration should be represented with the same set of parameters. We can implement this by  making use of the `collect_parameters()` method, as described in the `ParameterLabels.ipynb` tutorial. However, first we need to rebuild the paramvec, as this is not an automated process when defining the gate set. In the markovian case, the number of free parameters should be 11."
   ]
  },
  {
   "cell_type": "code",
   "execution_count": 4,
   "metadata": {},
   "outputs": [
    {
     "name": "stdout",
     "output_type": "stream",
     "text": [
      "[(Label('rho0'), 'VecElement 1') (Label('rho0'), 'VecElement 2')\n",
      " (Label('rho0'), 'VecElement 3') (Label('Mdefault'), 'VecElement Re(0)')\n",
      " (Label('Mdefault'), 'VecElement Re(1)')\n",
      " (Label('Mdefault'), 'VecElement Re(2)')\n",
      " (Label('Mdefault'), 'VecElement Re(3)') (Label('G1'), 'G1 param1')\n",
      " (Label('G1'), 'G1 param2') 'Gamma_1 pulse = pi/2' 'Delta_2 pulse = pi/2']\n",
      "11\n"
     ]
    }
   ],
   "source": [
    "#rebuild the param vector\n",
    "mdl._rebuild_paramvec()\n",
    "\n",
    "#collect the parameters\n",
    "mdl.collect_parameters([('G2', 'G2 param1'),\n",
    "                        ('G3', 'G3 param1'),\n",
    "                        ('G4', 'G4 param1'),\n",
    "                        ('G5', 'G5 param1')],\n",
    "                        new_param_label = 'Gamma_1 pulse = pi/2')\n",
    "\n",
    "mdl.collect_parameters([('G2', 'G2 param2'),\n",
    "                        ('G3', 'G3 param2'),\n",
    "                        ('G4', 'G4 param2'),\n",
    "                        ('G5', 'G5 param2')],\n",
    "                        new_param_label = 'Delta_2 pulse = pi/2')\n",
    "\n",
    "if not markov_approx:\n",
    "    mdl.collect_parameters([('G2', 'G2 param3'),\n",
    "                            ('G3', 'G3 param3'),\n",
    "                            ('G4', 'G4 param3'),\n",
    "                            ('G5', 'G5 param3')],\n",
    "                            new_param_label = 'Gamma_2 pulse = pi/2')\n",
    "\n",
    "    mdl.collect_parameters([('G2', 'G2 param4'),\n",
    "                            ('G3', 'G3 param4'),\n",
    "                            ('G4', 'G4 param4'),\n",
    "                            ('G5', 'G5 param4')],\n",
    "                            new_param_label = 'Delta_2 pulse = pi/2')\n",
    "\n",
    "print(mdl.parameter_labels)\n",
    "print(mdl.num_params)"
   ]
  },
  {
   "cell_type": "markdown",
   "metadata": {},
   "source": [
    "Now that we have defined the theoretical model for our gate set, it is time to simulate data to perform GST. To do so, we create an \"experimental_model\" which will act as the noisy operations taking place in the device."
   ]
  },
  {
   "cell_type": "code",
   "execution_count": 5,
   "metadata": {},
   "outputs": [],
   "source": [
    "#Define some noise parameters for the OU noise\n",
    "omega, tau, c = 1.2566 * 1e3, 5 * 1e-6, 2 * 1e5\n",
    "\n",
    "#params of the noisy operations\n",
    "gs_params = np.array([[pi, 0],[pi/2, 0],[pi/2, pi/2], [pi/2, pi], [pi/2, 3 * pi/2]])\n",
    "\n",
    "noise_params = np.array([omega, tau, c])\n",
    "#The availible faulty inital state parameters\n",
    "state_params = np.array([1e-1, 1e-1, 0.95])\n",
    "#The availible faulty measurement operator parameters\n",
    "measurement_params = np.array([1, 1e-1, 1e-1, 0.95])\n",
    "\n",
    "#We use the `gate_set_noise_params`class to define the experimental gate set\n",
    "Gate_set = gate_set_noise_params(noise_params, state_params, measurement_params, 1, markov_approx, 'PTM', gs_params)\n",
    "\n",
    "#explicit model definition\n",
    "experimental_mdl = pygsti.models.ExplicitOpModel(['Q0'],'pp')\n",
    "\n",
    "#model state\n",
    "experimental_mdl['rho0'] = Gate_set.state()\n",
    "\n",
    "#model measurement\n",
    "experimental_mdl['Mdefault'] = pygsti.modelmembers.povms.UnconstrainedPOVM(\n",
    "    {'0': Gate_set.measurement(),  \n",
    "     '1': [ sqrt(2), 0, 0, 0 ] - Gate_set.measurement()},\n",
    "    evotype='densitymx_slow')\n",
    "\n",
    "\n",
    "# Option 1: simulate the date with gates parameterized with the coloured phase model. We would therefore perform tomography with data \n",
    "# which we are sure that can fit to the theoretical model. This is used for research purposes to test the performance of the model.\n",
    "\n",
    "# for idx, gate in enumerate(myGates):\n",
    "#     experimental_mdl[gate] = Gate_set.gates()[idx]\n",
    "\n",
    "# Option 2: simulate the date with gates obtained averaging over many noisy instances. This does not make any approximation and it is\n",
    "# a more realistic scenario.\n",
    "\n",
    "#Number of stochastic instances\n",
    "Mnoise = 1e3 #Only for testing purpouses. To have an acceptable accuracy set at least Mnoise = 1e4\n",
    "\n",
    "for idx, gate in enumerate(myGates):\n",
    "    experimental_mdl[gate] = chi2ptm(stochastic_matrices([gs_params[idx, 1]], Mnoise, gs_params[idx, 0], c, tau, omega)[0])"
   ]
  },
  {
   "cell_type": "markdown",
   "metadata": {},
   "source": [
    "We seleect the base circuits and fiducial pairs that we shall employ to perform GST. From the theory we know that single gates serve as an amplificationally complete set when working under this parameterization. Additionally, for each parameter, we select the fiducial pair which stimulates it the most.  "
   ]
  },
  {
   "cell_type": "code",
   "execution_count": 6,
   "metadata": {},
   "outputs": [],
   "source": [
    "# operations for SPAM and germs\n",
    "prep_fiducials = pygsti.circuits.to_circuits(['G1', 'G2', 'G3', 'G4', 'G5'])\n",
    "meas_fiducials = pygsti.circuits.to_circuits(['G1', 'G2', 'G3', 'G4', 'G5'])\n",
    "germs = pygsti.circuits.to_circuits(['G1', 'G2', 'G3', 'G4', 'G5'])\n",
    "\n",
    "#We select the fiducial pairs which stimulate the most the parameters\n",
    "fidPairs = {pygsti.circuits.Circuit('G1'): [(0,0),(0,2),(0,3),(0,4)], pygsti.circuits.Circuit('G2'): [(0,4)],\n",
    "            pygsti.circuits.Circuit('G3'): [(0,0)], pygsti.circuits.Circuit('G4'): [(0,0), (0,3), (4,4)],\n",
    "            pygsti.circuits.Circuit('G5'): [(0,4),(4,4)]}\n",
    "\n",
    "# list of max lengths for long-sequence circutis\n",
    "maxLengths = [1, 2, 4, 8, 16]\n",
    "\n",
    "# the list of experiments to execute\n",
    "listOfExperiments = pygsti.circuits.gstcircuits.create_lsgst_circuits(\n",
    "    myGates, prep_fiducials, meas_fiducials, germs, maxLengths, fidPairs, include_lgst = False)\n"
   ]
  },
  {
   "cell_type": "markdown",
   "metadata": {},
   "source": [
    "Data simulation. We might have some ComplexWarning because the average stochastic matrices have some remaining negligible complex elements"
   ]
  },
  {
   "cell_type": "code",
   "execution_count": 7,
   "metadata": {},
   "outputs": [
    {
     "name": "stderr",
     "output_type": "stream",
     "text": [
      "/Users/pablovinasmartinez/opt/anaconda3/envs/coloured_GST/lib/python3.12/site-packages/pygsti/models/model.py:974: ComplexWarning: Casting complex values to real discards the imaginary part\n",
      "  w[obj.gpindices] = obj.to_vector()\n",
      "/Users/pablovinasmartinez/opt/anaconda3/envs/coloured_GST/lib/python3.12/site-packages/pygsti/forwardsims/matrixforwardsim.py:746: ComplexWarning: Casting complex values to real discards the imaginary part\n",
      "  prodCache[iDest] = gate / nG\n"
     ]
    }
   ],
   "source": [
    "#shots to obtain experimental frequencies for each circuit\n",
    "shots = 1e7\n",
    "\n",
    "#simulate the data\n",
    "data = pygsti.data.simulate_data(experimental_mdl, listOfExperiments, num_samples = shots,\n",
    "                                         sample_error = 'binomial')"
   ]
  },
  {
   "cell_type": "markdown",
   "metadata": {},
   "source": [
    "We fit using long sequence GTS. We do not need to perfrom gauge optimisation because there is not gauge freedom with our parameterization."
   ]
  },
  {
   "cell_type": "code",
   "execution_count": 8,
   "metadata": {},
   "outputs": [
    {
     "name": "stdout",
     "output_type": "stream",
     "text": [
      "--- Circuit Creation ---\n",
      "--- Iterative GST: [##################################################] 100.0%  55 circuits ---\n"
     ]
    }
   ],
   "source": [
    "#some custom GST options\n",
    "my_adv_options = {'tolerance': 1e-4, 'starting_point': 'target', 'max_iterations': 1000}\n",
    "\n",
    "#run lsGST\n",
    "results = pygsti.run_long_sequence_gst(data, mdl, prep_fiducials, meas_fiducials,\n",
    "                                           germs, maxLengths, gauge_opt_params = False, advanced_options = my_adv_options, verbosity = 1)\n",
    "                                           \n",
    "\n",
    "#We define a model with the results\n",
    "mdl_estimate = results.estimates['GateSetTomography'].models['final iteration estimate']"
   ]
  },
  {
   "cell_type": "markdown",
   "metadata": {},
   "source": [
    "Let's compare the resutls"
   ]
  },
  {
   "cell_type": "code",
   "execution_count": 9,
   "metadata": {},
   "outputs": [
    {
     "name": "stdout",
     "output_type": "stream",
     "text": [
      "[[ 1.00000000e+00  0.00000000e+00  0.00000000e+00  0.00000000e+00]\n",
      " [ 0.00000000e+00  1.00000000e+00  0.00000000e+00  0.00000000e+00]\n",
      " [ 0.00000000e+00  0.00000000e+00 -1.00000000e+00 -2.66913288e-08]\n",
      " [ 0.00000000e+00  0.00000000e+00  2.66913288e-08 -1.00000000e+00]]\n",
      "[[ 1.00000000e+00+0.j -5.29395592e-22+0.j -1.71390670e-18+0.j\n",
      "   0.00000000e+00+0.j]\n",
      " [ 4.76998663e-22+0.j  9.99999985e-01+0.j  1.21291359e-06+0.j\n",
      "   1.01038880e-06+0.j]\n",
      " [ 1.71390670e-18+0.j  1.21291361e-06+0.j -9.99999993e-01+0.j\n",
      "   1.70090361e-11+0.j]\n",
      " [ 0.00000000e+00+0.j  1.01038877e-06+0.j -2.17962373e-10+0.j\n",
      "  -9.99999992e-01+0.j]]\n",
      "1.5828006728680106e-06\n"
     ]
    }
   ],
   "source": [
    "G_estimate, G_experimental = mdl_estimate['G1'].to_dense(), experimental_mdl['G1'].to_dense()\n",
    "\n",
    "print(G_estimate)\n",
    "print(G_experimental)\n",
    "\n",
    "print(pygsti.tools.tracedist(mdl_estimate['G1'].to_dense(), experimental_mdl['G1'].to_dense()))"
   ]
  },
  {
   "cell_type": "markdown",
   "metadata": {},
   "source": [
    "To see if GST recovers the right parameters, let us use data simulated with the parameterized model (Option 1 in the experimental model cell). To make sure everything works, we will use a **very noisy** model."
   ]
  },
  {
   "cell_type": "code",
   "execution_count": 10,
   "metadata": {},
   "outputs": [
    {
     "name": "stdout",
     "output_type": "stream",
     "text": [
      "--- Circuit Creation ---\n",
      "--- Iterative GST: [##################################################] 100.0%  55 circuits ---\n"
     ]
    }
   ],
   "source": [
    "#Define some noise parameters for the OU noise\n",
    "omega, tau, c = 1.2566 * 1e3, 5 * 1e-4, 2 * 1e9\n",
    "\n",
    "#params of the noisy operations\n",
    "gs_params = np.array([[pi, 0],[pi/2, 0],[pi/2, pi/2], [pi/2, pi], [pi/2, 3 * pi/2]])\n",
    "\n",
    "noise_params = np.array([omega, tau, c])\n",
    "#The availible faulty inital state parameters\n",
    "state_params = np.array([1e-1, 1e-1, 0.95])\n",
    "#The availible faulty measurement operator parameters\n",
    "measurement_params = np.array([1, 1e-1, 1e-1, 0.95])\n",
    "\n",
    "#We use the `gate_set_noise_params`class to define the experimental gate set\n",
    "Gate_set = gate_set_noise_params(noise_params, state_params, measurement_params, 1, markov_approx, 'PTM', gs_params)\n",
    "\n",
    "#explicit model definition\n",
    "experimental_mdl = pygsti.models.ExplicitOpModel(['Q0'],'pp')\n",
    "\n",
    "#model state\n",
    "experimental_mdl['rho0'] = Gate_set.state()\n",
    "\n",
    "#model measurement\n",
    "experimental_mdl['Mdefault'] = pygsti.modelmembers.povms.UnconstrainedPOVM(\n",
    "    {'0': Gate_set.measurement(),  \n",
    "     '1': [ sqrt(2), 0, 0, 0 ] - Gate_set.measurement()},\n",
    "    evotype='densitymx_slow')\n",
    "\n",
    "for idx, gate in enumerate(myGates):\n",
    "    experimental_mdl[gate] = Gate_set.gates()[idx]\n",
    "\n",
    "#shots to obtain experimental frequencies for each circuit\n",
    "shots = 1e3\n",
    "\n",
    "#simulate the data\n",
    "data = pygsti.data.simulate_data(experimental_mdl, listOfExperiments, num_samples = shots,\n",
    "                                         sample_error = 'binomial')\n",
    "\n",
    "#run lsGST\n",
    "results = pygsti.run_long_sequence_gst(data, mdl, prep_fiducials, meas_fiducials,\n",
    "                                           germs, maxLengths, gauge_opt_params = False, advanced_options = my_adv_options, verbosity = 1)     \n",
    "\n",
    "#We define a model with the results\n",
    "mdl_estimate = results.estimates['GateSetTomography'].models['final iteration estimate']                                   "
   ]
  },
  {
   "cell_type": "markdown",
   "metadata": {},
   "source": [
    "We compare the parameters. We get some shot noise, but recover the correct set."
   ]
  },
  {
   "cell_type": "code",
   "execution_count": 11,
   "metadata": {},
   "outputs": [
    {
     "name": "stdout",
     "output_type": "stream",
     "text": [
      "[0.38998569 0.22502784]\n",
      "(0.40896673960965435, 0.20026551703634543, 0.0, 0.0)\n"
     ]
    }
   ],
   "source": [
    "G_estimate, G_experimental = mdl_estimate['G1'].to_dense(), experimental_mdl['G1'].to_dense()\n",
    "vec_estimate, vec_experimental = mdl_estimate['G1'].to_vector(), quantum_channel(pi, omega, tau, c, p = 1, markovian_approx = markov_approx, representation = 'PTM', phase = 0)[1:]\n",
    "\n",
    "print(vec_estimate)\n",
    "print(vec_experimental)"
   ]
  },
  {
   "cell_type": "markdown",
   "metadata": {},
   "source": [
    "We finally also compare the gates"
   ]
  },
  {
   "cell_type": "code",
   "execution_count": 12,
   "metadata": {},
   "outputs": [
    {
     "name": "stdout",
     "output_type": "stream",
     "text": [
      "[[ 1.          0.          0.          0.        ]\n",
      " [ 0.          0.67706656  0.          0.        ]\n",
      " [ 0.          0.         -0.81763771  0.0923858 ]\n",
      " [ 0.          0.         -0.0923858  -0.81763771]]\n",
      "[[ 1.          0.          0.          0.        ]\n",
      " [ 0.          0.66433633  0.          0.        ]\n",
      " [ 0.          0.         -0.81098554  0.08147872]\n",
      " [ 0.          0.         -0.08147872 -0.81098554]]\n",
      "0.019140715121950317\n"
     ]
    }
   ],
   "source": [
    "print(G_estimate)\n",
    "print(G_experimental)\n",
    "\n",
    "print(pygsti.tools.tracedist(mdl_estimate['G1'].to_dense(), experimental_mdl['G1'].to_dense()))"
   ]
  },
  {
   "cell_type": "markdown",
   "metadata": {},
   "source": [
    "Lastly, we will progressively increase the number of shots to reproduce Fig. 3 of the paper. We select an interval of shots ranging in $N_{\\rm b,s}\\in [10^2-10^7]$. We repeat the experiment 10 times to limit the variance."
   ]
  },
  {
   "cell_type": "code",
   "execution_count": 13,
   "metadata": {},
   "outputs": [],
   "source": [
    "#This will take some minutes\n",
    "\n",
    "#Define some noise parameters for the OU noise\n",
    "omega, tau, c = 1.2566 * 1e3, 5 * 1e-4, 2 * 1e9\n",
    "\n",
    "#We use the `gate_set_noise_params`class to define the experimental gate set\n",
    "Gate_set = gate_set_noise_params(noise_params, state_params, measurement_params, 1, markov_approx, 'PTM', gs_params)\n",
    "\n",
    "#explicit model definition\n",
    "experimental_mdl = pygsti.models.ExplicitOpModel(['Q0'],'pp')\n",
    "\n",
    "#model state\n",
    "experimental_mdl['rho0'] = Gate_set.state()\n",
    "\n",
    "#model measurement\n",
    "experimental_mdl['Mdefault'] = pygsti.modelmembers.povms.UnconstrainedPOVM(\n",
    "    {'0': Gate_set.measurement(),  \n",
    "     '1': [ sqrt(2), 0, 0, 0 ] - Gate_set.measurement()},\n",
    "    evotype='densitymx_slow')\n",
    "\n",
    "for idx, gate in enumerate(myGates):\n",
    "    experimental_mdl[gate] = Gate_set.gates()[idx]\n",
    "\n",
    "\n",
    "\n",
    "\n",
    "shots_array = np.logspace(2,7,10)\n",
    "\n",
    "#To obtain accurate results we should set iterations = 100\n",
    "iterations = 10\n",
    "\n",
    "results_array = np.empty([len(shots_array), iterations])\n",
    "\n",
    "for idx, shots in enumerate(shots_array):\n",
    "\n",
    "    for iter in range(iterations): \n",
    "    \n",
    "        #simulate the data\n",
    "        data = pygsti.data.simulate_data(experimental_mdl, listOfExperiments, num_samples = shots,\n",
    "                                                sample_error = 'binomial')\n",
    "\n",
    "        #run lsGST\n",
    "        results = pygsti.run_long_sequence_gst(data, mdl, prep_fiducials, meas_fiducials,\n",
    "                                                germs, maxLengths, gauge_opt_params = False, advanced_options = my_adv_options, verbosity = 0)     \n",
    "\n",
    "        #We define a model with the results\n",
    "        mdl_estimate = results.estimates['GateSetTomography'].models['final iteration estimate']   \n",
    "\n",
    "        results_array[idx, iter] = pygsti.tools.tracedist(mdl_estimate['G1'].to_dense(), experimental_mdl['G1'].to_dense())"
   ]
  },
  {
   "cell_type": "code",
   "execution_count": 14,
   "metadata": {},
   "outputs": [
    {
     "data": {
      "image/png": "[encoded data removed]",
      "text/plain": [
       "<Figure size 640x480 with 1 Axes>"
      ]
     },
     "metadata": {},
     "output_type": "display_data"
    }
   ],
   "source": [
    "import matplotlib.pyplot as plt\n",
    "import numpy as np\n",
    "\n",
    "#we average ethe results over the iterations\n",
    "trace_distances = results_array.mean(axis = 1)\n",
    "\n",
    "# Creating the log-log plot\n",
    "plt.loglog(shots_array, trace_distances, marker='o', linestyle='-', color='b')\n",
    "\n",
    "# Adding labels and title\n",
    "plt.xlabel('Number of Shots')\n",
    "plt.ylabel('Trace Distance')\n",
    "plt.title('Trace Distance as a Function of Number of Shots')\n",
    "\n",
    "# Display the plot\n",
    "plt.show()"
   ]
  },
  {
   "cell_type": "markdown",
   "metadata": {},
   "source": [
    "If we repeat this experiment many times, we should obtain a slope close to -0.5. This can be already appreciated in the graph above for just 10 iteration."
   ]
  },
  {
   "cell_type": "code",
   "execution_count": null,
   "metadata": {},
   "outputs": [],
   "source": []
  }
 ],
 "metadata": {
  "kernelspec": {
   "display_name": "coloured_GST",
   "language": "python",
   "name": "python3"
  },
  "language_info": {
   "codemirror_mode": {
    "name": "ipython",
    "version": 3
   },
   "file_extension": ".py",
   "mimetype": "text/x-python",
   "name": "python",
   "nbconvert_exporter": "python",
   "pygments_lexer": "ipython3",
   "version": "3.12.3"
  }
 },
 "nbformat": 4,
 "nbformat_minor": 2
}
